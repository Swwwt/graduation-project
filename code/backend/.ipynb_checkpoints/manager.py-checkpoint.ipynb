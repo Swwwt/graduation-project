{
 "cells": [
  {
   "cell_type": "code",
   "execution_count": null,
   "metadata": {},
   "outputs": [],
   "source": [
    "from flask import Flask, jsonify, request\n",
    "\n",
    "app = Flask(__name__)\n",
    "\n",
    "incomes = [\n",
    "  { 'description': 'salary', 'amount': 5000 }\n",
    "]\n",
    "\n",
    "\n",
    "@app.route('/incomes')\n",
    "def get_incomes():\n",
    "  return jsonify(incomes)\n",
    "\n",
    "\n",
    "@app.route('/incomes', methods=['POST'])\n",
    "def add_income():\n",
    "  incomes.append(request.get_json())\n",
    "  return '', 204\n",
    "\n",
    "\n",
    "if __name__ == \"__main__\":\n",
    "    api.run(debug=True, port=8000)"
   ]
  }
 ],
 "metadata": {
  "kernelspec": {
   "display_name": "Python 3",
   "language": "python",
   "name": "python3"
  },
  "language_info": {
   "codemirror_mode": {
    "name": "ipython",
    "version": 3
   },
   "file_extension": ".py",
   "mimetype": "text/x-python",
   "name": "python",
   "nbconvert_exporter": "python",
   "pygments_lexer": "ipython3",
   "version": "3.7.0"
  }
 },
 "nbformat": 4,
 "nbformat_minor": 2
}
